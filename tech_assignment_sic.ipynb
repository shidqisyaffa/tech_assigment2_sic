{
  "nbformat": 4,
  "nbformat_minor": 0,
  "metadata": {
    "colab": {
      "provenance": []
    },
    "kernelspec": {
      "name": "python3",
      "display_name": "Python 3"
    },
    "language_info": {
      "name": "python"
    }
  },
  "cells": [
    {
      "cell_type": "markdown",
      "source": [
        "Shidqi Ahmad Musyaffa'"
      ],
      "metadata": {
        "id": "He6nB_-NHsU6"
      }
    },
    {
      "cell_type": "code",
      "source": [
        "#import library\n",
        "!pip install ucimlrepo\n",
        "import numpy as np\n",
        "import seaborn as sns\n",
        "import pandas as pd\n",
        "import matplotlib.pyplot as plt\n",
        "from collections import Counter\n",
        "import tensorflow as tf\n",
        "from sklearn.preprocessing import OneHotEncoder\n",
        "from sklearn.model_selection import train_test_split\n",
        "from sklearn.metrics import classification_report, accuracy_score, confusion_matrix\n",
        "from imblearn.over_sampling import SMOTE\n",
        "from ucimlrepo import fetch_ucirepo\n"
      ],
      "metadata": {
        "colab": {
          "base_uri": "https://localhost:8080/"
        },
        "id": "NNvbHISSH65w",
        "outputId": "0d3d49df-ecc3-4842-debc-02eb49b54c1e"
      },
      "execution_count": 2,
      "outputs": [
        {
          "output_type": "stream",
          "name": "stdout",
          "text": [
            "Collecting ucimlrepo\n",
            "  Downloading ucimlrepo-0.0.7-py3-none-any.whl (8.0 kB)\n",
            "Requirement already satisfied: pandas>=1.0.0 in /usr/local/lib/python3.10/dist-packages (from ucimlrepo) (2.0.3)\n",
            "Requirement already satisfied: certifi>=2020.12.5 in /usr/local/lib/python3.10/dist-packages (from ucimlrepo) (2024.6.2)\n",
            "Requirement already satisfied: python-dateutil>=2.8.2 in /usr/local/lib/python3.10/dist-packages (from pandas>=1.0.0->ucimlrepo) (2.8.2)\n",
            "Requirement already satisfied: pytz>=2020.1 in /usr/local/lib/python3.10/dist-packages (from pandas>=1.0.0->ucimlrepo) (2023.4)\n",
            "Requirement already satisfied: tzdata>=2022.1 in /usr/local/lib/python3.10/dist-packages (from pandas>=1.0.0->ucimlrepo) (2024.1)\n",
            "Requirement already satisfied: numpy>=1.21.0 in /usr/local/lib/python3.10/dist-packages (from pandas>=1.0.0->ucimlrepo) (1.25.2)\n",
            "Requirement already satisfied: six>=1.5 in /usr/local/lib/python3.10/dist-packages (from python-dateutil>=2.8.2->pandas>=1.0.0->ucimlrepo) (1.16.0)\n",
            "Installing collected packages: ucimlrepo\n",
            "Successfully installed ucimlrepo-0.0.7\n"
          ]
        }
      ]
    },
    {
      "cell_type": "code",
      "source": [
        "# Fetch dataset\n",
        "ai4i_2020_predictive_maintenance_dataset = fetch_ucirepo(id=601)\n",
        "X = ai4i_2020_predictive_maintenance_dataset.data.features\n",
        "y = ai4i_2020_predictive_maintenance_dataset.data.targets['TWF']"
      ],
      "metadata": {
        "id": "-OxY3Yl2IAUk"
      },
      "execution_count": 3,
      "outputs": []
    },
    {
      "cell_type": "code",
      "source": [
        "# One-hot encode 'Type' column\n",
        "encoder = OneHotEncoder(sparse=False)\n",
        "one_hot_encoded = encoder.fit_transform(X[['Type']])\n",
        "one_hot_encoded_df = pd.DataFrame(one_hot_encoded, columns=encoder.get_feature_names_out(['Type']))\n",
        "df_train = pd.concat([X, one_hot_encoded_df], axis=1).drop(\"Type\", axis=1)"
      ],
      "metadata": {
        "colab": {
          "base_uri": "https://localhost:8080/"
        },
        "id": "Oc5Yd2evICkh",
        "outputId": "0e9a62e2-1a6f-48e3-d416-9f00ac204b1f"
      },
      "execution_count": 4,
      "outputs": [
        {
          "output_type": "stream",
          "name": "stderr",
          "text": [
            "/usr/local/lib/python3.10/dist-packages/sklearn/preprocessing/_encoders.py:868: FutureWarning: `sparse` was renamed to `sparse_output` in version 1.2 and will be removed in 1.4. `sparse_output` is ignored unless you leave `sparse` to its default value.\n",
            "  warnings.warn(\n"
          ]
        }
      ]
    },
    {
      "cell_type": "code",
      "source": [
        "# Resample using SMOTE\n",
        "sm = SMOTE(random_state=13)\n",
        "X_res, y_res = sm.fit_resample(df_train, y)"
      ],
      "metadata": {
        "id": "2AaKTEmgIEZj"
      },
      "execution_count": 5,
      "outputs": []
    },
    {
      "cell_type": "code",
      "source": [
        "# Split data into train and test sets\n",
        "x_train, x_test, y_train, y_test = train_test_split(X_res, y_res, test_size=0.2, random_state=2550)\n"
      ],
      "metadata": {
        "id": "1HU3fLhOIGdX"
      },
      "execution_count": 6,
      "outputs": []
    },
    {
      "cell_type": "code",
      "source": [
        "# Build neural network model\n",
        "def build_model():\n",
        "    model = tf.keras.models.Sequential()\n",
        "    model.add(tf.keras.layers.Dense(7, activation=\"relu\"))\n",
        "    model.add(tf.keras.layers.Dense(7, activation=\"relu\"))\n",
        "    model.add(tf.keras.layers.Dense(1, activation=\"sigmoid\"))\n",
        "    model.compile(optimizer='adam', loss='binary_crossentropy', metrics=['accuracy'])\n",
        "    return model\n"
      ],
      "metadata": {
        "id": "4FlrcpxjIIfq"
      },
      "execution_count": 7,
      "outputs": []
    },
    {
      "cell_type": "code",
      "source": [
        "# Train the model\n",
        "model = build_model()\n",
        "NUM_EPOCHS = 12\n",
        "BATCH_SIZE = 32\n",
        "model.fit(x_train, y_train, batch_size=BATCH_SIZE, epochs=NUM_EPOCHS, verbose=2)"
      ],
      "metadata": {
        "colab": {
          "base_uri": "https://localhost:8080/"
        },
        "id": "96LBl42-IKkz",
        "outputId": "a072c7ac-f42a-4cd1-c962-4da044c2d47d"
      },
      "execution_count": 8,
      "outputs": [
        {
          "output_type": "stream",
          "name": "stdout",
          "text": [
            "Epoch 1/12\n",
            "498/498 - 2s - loss: 24.8148 - accuracy: 0.7582 - 2s/epoch - 5ms/step\n",
            "Epoch 2/12\n",
            "498/498 - 1s - loss: 0.2873 - accuracy: 0.8747 - 1s/epoch - 3ms/step\n",
            "Epoch 3/12\n",
            "498/498 - 2s - loss: 0.2523 - accuracy: 0.8977 - 2s/epoch - 5ms/step\n",
            "Epoch 4/12\n",
            "498/498 - 3s - loss: 0.2370 - accuracy: 0.9055 - 3s/epoch - 5ms/step\n",
            "Epoch 5/12\n",
            "498/498 - 2s - loss: 0.2230 - accuracy: 0.9108 - 2s/epoch - 3ms/step\n",
            "Epoch 6/12\n",
            "498/498 - 2s - loss: 0.2163 - accuracy: 0.9179 - 2s/epoch - 4ms/step\n",
            "Epoch 7/12\n",
            "498/498 - 1s - loss: 0.2172 - accuracy: 0.9158 - 1s/epoch - 3ms/step\n",
            "Epoch 8/12\n",
            "498/498 - 1s - loss: 0.1974 - accuracy: 0.9263 - 1s/epoch - 3ms/step\n",
            "Epoch 9/12\n",
            "498/498 - 2s - loss: 0.1946 - accuracy: 0.9316 - 2s/epoch - 4ms/step\n",
            "Epoch 10/12\n",
            "498/498 - 3s - loss: 0.2041 - accuracy: 0.9263 - 3s/epoch - 5ms/step\n",
            "Epoch 11/12\n",
            "498/498 - 3s - loss: 0.1911 - accuracy: 0.9297 - 3s/epoch - 7ms/step\n",
            "Epoch 12/12\n",
            "498/498 - 2s - loss: 0.1912 - accuracy: 0.9314 - 2s/epoch - 4ms/step\n"
          ]
        },
        {
          "output_type": "execute_result",
          "data": {
            "text/plain": [
              "<keras.src.callbacks.History at 0x780351bdb400>"
            ]
          },
          "metadata": {},
          "execution_count": 8
        }
      ]
    },
    {
      "cell_type": "code",
      "source": [
        "# Evaluate model accuracy\n",
        "test_loss, test_accuracy = model.evaluate(x_test, y_test)\n",
        "print(\"Model Accuracy:\", test_accuracy)"
      ],
      "metadata": {
        "colab": {
          "base_uri": "https://localhost:8080/"
        },
        "id": "FGC5LAJCIMto",
        "outputId": "30723f02-1a7f-4d63-e14d-89f879f93772"
      },
      "execution_count": 9,
      "outputs": [
        {
          "output_type": "stream",
          "name": "stdout",
          "text": [
            "125/125 [==============================] - 1s 4ms/step - loss: 0.1803 - accuracy: 0.9357\n",
            "Model Accuracy: 0.9357106685638428\n"
          ]
        }
      ]
    },
    {
      "cell_type": "code",
      "source": [
        "# Example data for prediction\n",
        "data_example = {\n",
        "    'Air temperature': [299.1],\n",
        "    'Process temperature': [308.8],\n",
        "    'Rotational speed': [1500],\n",
        "    'Torque': [40.0],\n",
        "    'Tool wear': [10],\n",
        "    'Type_H': [0.0],\n",
        "    'Type_L': [1.0],\n",
        "    'Type_M': [0.0]\n",
        "}\n",
        "df_example = pd.DataFrame(data_example)"
      ],
      "metadata": {
        "id": "7_hbCmrgIO86"
      },
      "execution_count": 10,
      "outputs": []
    },
    {
      "cell_type": "code",
      "source": [
        "# Make predictions\n",
        "y_pred = model.predict(x_test)\n",
        "y_pred = (y_pred > 0.5)"
      ],
      "metadata": {
        "colab": {
          "base_uri": "https://localhost:8080/"
        },
        "id": "OJALKb19IRKr",
        "outputId": "20b2979e-a6b7-4800-a132-341d009faa1f"
      },
      "execution_count": 11,
      "outputs": [
        {
          "output_type": "stream",
          "name": "stdout",
          "text": [
            "125/125 [==============================] - 1s 3ms/step\n"
          ]
        }
      ]
    },
    {
      "cell_type": "code",
      "source": [
        "# Print classification report and confusion matrix\n",
        "print(classification_report(y_test, y_pred))\n",
        "cm = confusion_matrix(y_test, y_pred)\n",
        "df_cm = pd.DataFrame(cm, columns=['0', '1'], index=['0', '1'])\n",
        "df_cm.index.name = 'Actual'\n",
        "df_cm.columns.name = 'Predicted'\n",
        "sns.heatmap(df_cm, cmap='Blues', annot=True)\n",
        "print(\"\\nConfusion Matrix:\", cm)\n",
        "print(\"Accuracy Score:\", accuracy_score(y_test, y_pred))"
      ],
      "metadata": {
        "colab": {
          "base_uri": "https://localhost:8080/",
          "height": 675
        },
        "id": "cklTxza6ITJS",
        "outputId": "b3ee9090-adce-48f5-bf6c-f5daa4127125"
      },
      "execution_count": 12,
      "outputs": [
        {
          "output_type": "stream",
          "name": "stdout",
          "text": [
            "              precision    recall  f1-score   support\n",
            "\n",
            "           0       0.97      0.90      0.93      2037\n",
            "           1       0.90      0.97      0.94      1945\n",
            "\n",
            "    accuracy                           0.94      3982\n",
            "   macro avg       0.94      0.94      0.94      3982\n",
            "weighted avg       0.94      0.94      0.94      3982\n",
            "\n",
            "\n",
            "Confusion Matrix: [[1836  201]\n",
            " [  55 1890]]\n",
            "Accuracy Score: 0.9357106981416373\n"
          ]
        },
        {
          "output_type": "display_data",
          "data": {
            "text/plain": [
              "<Figure size 640x480 with 2 Axes>"
            ],
            "image/png": "[encoded data removed]"
          },
          "metadata": {}
        }
      ]
    }
  ]
}